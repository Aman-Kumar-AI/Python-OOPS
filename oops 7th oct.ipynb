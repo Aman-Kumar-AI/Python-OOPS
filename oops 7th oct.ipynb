{
 "cells": [
  {
   "cell_type": "markdown",
   "id": "e4e34ea2-2a7a-4c16-b040-0b285e7249ac",
   "metadata": {},
   "source": [
    "Problem 1: Bank Account Create a class representing a bank account with attributes like account number, account holder name, and balance. Implement methods to deposit and withdraw money from the account.\n",
    "\n",
    "Problem 2: Employee Management Create a class representing an employee with attributes like employee ID, name, and salary. Implement methods to calculate the yearly bonus and display employee details.\n",
    "\n",
    "Problem 3: Vehicle Rental Create a class representing a vehicle rental system. Implement methods to rent a vehicle, return a vehicle, and display available vehicles.\n",
    "\n",
    "Problem 4: Library Catalog Create classes representing a library and a book. Implement methods to add books to the library, borrow books, and display available books.\n",
    "\n",
    "Problem 5: Product Inventory Create classes representing a product and an inventory system. Implement methods to add products to the inventory, update product quantity, and display available products.\n",
    "\n",
    "Problem 6: Shape Calculation Create a class representing a shape with attributes like length, width, and height. Implement methods to calculate the area and perimeter of the shape.\n",
    "\n",
    "Problem 7: Student Management Create a class representing a student with attributes like student ID, name, and grades. Implement methods to calculate the average grade and display student details.\n",
    "\n",
    "Problem 8: Email Management Create a class representing an email with attributes like sender, recipient, and subject. Implement methods to send an email and display email details.\n",
    "\n",
    "Problem 9: Social Media Profile Create a class representing a social media profile with attributes like username and posts. Implement methods to add posts, display posts, and search for posts by keyword.\n",
    "\n",
    "Problem 10: ToDo List Create a class representing a ToDo list with attributes like tasks and due dates. Implement methods to add tasks, mark tasks as completed, and display pending tasks."
   ]
  },
  {
   "cell_type": "markdown",
   "id": "9adb0e69-aac2-4349-adc9-9312f150adfc",
   "metadata": {
    "tags": []
   },
   "source": [
    "### Problem 1: Bank Account Create a class representing a bank account with attributes like account number, account holder name, and balance. Implement methods to deposit and withdraw money from the account."
   ]
  },
  {
   "cell_type": "code",
   "execution_count": 1,
   "id": "8897695f-9243-4e00-b29e-776e60e2e696",
   "metadata": {},
   "outputs": [],
   "source": [
    "class BankAccount:\n",
    "    def __init__(self, account_number, account_holder, balance=0):\n",
    "        self.account_number = account_number\n",
    "        self.account_holder = account_holder\n",
    "        self.balance = balance\n",
    "\n",
    "    def deposit(self, amount):\n",
    "        try:\n",
    "            amount = float(amount)\n",
    "            if amount > 0:\n",
    "                self.balance += amount\n",
    "                print(f\"Deposited ${amount}. Current balance: ${self.balance}\")\n",
    "            else:\n",
    "                print(\"Please enter a valid positive amount for deposit.\")\n",
    "        except ValueError:\n",
    "            print(\"Invalid input. Please enter a numeric value for deposit.\")\n",
    "\n",
    "    def withdraw(self, amount):\n",
    "        try:\n",
    "            amount = float(amount)\n",
    "            if amount > 0:\n",
    "                if amount <= self.balance:\n",
    "                    self.balance -= amount\n",
    "                    print(f\"Withdrew ${amount}. Current balance: ${self.balance}\")\n",
    "                else:\n",
    "                    print(\"Insufficient funds.\")\n",
    "            else:\n",
    "                print(\"Please enter a valid positive amount for withdrawal.\")\n",
    "        except ValueError:\n",
    "            print(\"Invalid input. Please enter a numeric value for withdrawal.\")"
   ]
  },
  {
   "cell_type": "code",
   "execution_count": 2,
   "id": "99f18e7a-c969-43ea-a7dc-0c5c1c3c07a0",
   "metadata": {},
   "outputs": [],
   "source": [
    "account1 = BankAccount(\"123456\", \"Aman\", 1000)"
   ]
  },
  {
   "cell_type": "code",
   "execution_count": 3,
   "id": "3be99987-8899-4ce3-a4af-0610f7ab0842",
   "metadata": {},
   "outputs": [
    {
     "name": "stdout",
     "output_type": "stream",
     "text": [
      "Invalid input. Please enter a numeric value for deposit.\n"
     ]
    }
   ],
   "source": [
    "account1.deposit(\"abc\")"
   ]
  },
  {
   "cell_type": "code",
   "execution_count": 4,
   "id": "5aa81ead-ac0d-4f46-8995-f16e460f1a93",
   "metadata": {},
   "outputs": [
    {
     "name": "stdout",
     "output_type": "stream",
     "text": [
      "Insufficient funds.\n"
     ]
    }
   ],
   "source": [
    "account1.withdraw(1500)"
   ]
  },
  {
   "cell_type": "code",
   "execution_count": 5,
   "id": "15a3627d-5ef1-48a6-a11a-fa0bf559549d",
   "metadata": {},
   "outputs": [
    {
     "name": "stdout",
     "output_type": "stream",
     "text": [
      "Deposited $500.0. Current balance: $1500.0\n"
     ]
    }
   ],
   "source": [
    "account1.deposit(500)"
   ]
  },
  {
   "cell_type": "code",
   "execution_count": 6,
   "id": "0fffc5ff-17bd-4f20-a5e9-f279c47ab91a",
   "metadata": {},
   "outputs": [
    {
     "name": "stdout",
     "output_type": "stream",
     "text": [
      "Withdrew $200.0. Current balance: $1300.0\n"
     ]
    }
   ],
   "source": [
    "account1.withdraw(200)"
   ]
  },
  {
   "cell_type": "markdown",
   "id": "c8762153-1644-427d-9bac-07dbf8608613",
   "metadata": {
    "tags": []
   },
   "source": [
    "### Problem 2: Employee Management Create a class representing an employee with attributes like employee ID, name, and salary. Implement methods to calculate the yearly bonus and display employee details"
   ]
  },
  {
   "cell_type": "code",
   "execution_count": 8,
   "id": "a7e9e9a3-734b-49f4-a87d-a4d03cd0abc9",
   "metadata": {},
   "outputs": [],
   "source": [
    "class Employee:\n",
    "    def __init__(self, employee_id, name, salary):\n",
    "        self.employee_id = employee_id\n",
    "        self.name = name\n",
    "        self.salary = salary\n",
    "\n",
    "    def calculate_bonus(self):\n",
    "        try:\n",
    "            bonus_percentage = 0.7\n",
    "            bonus = self.salary * bonus_percentage\n",
    "            return bonus\n",
    "        except Exception as e:\n",
    "            print(f\"Error calculating bonus: {e}\")\n",
    "            return 0\n",
    "\n",
    "    def display_details(self):\n",
    "        try:\n",
    "            print(f\"Employee ID: {self.employee_id}\")\n",
    "            print(f\"Name: {self.name}\")\n",
    "            print(f\"Salary: ${self.salary}\")\n",
    "            bonus = self.calculate_bonus()\n",
    "            print(f\"Yearly Bonus: ${bonus}\")\n",
    "        except Exception as e:\n",
    "            print(f\"Error displaying details: {e}\")"
   ]
  },
  {
   "cell_type": "code",
   "execution_count": 10,
   "id": "1d62c934-94b8-4858-9f74-72be06a9963b",
   "metadata": {},
   "outputs": [
    {
     "name": "stdout",
     "output_type": "stream",
     "text": [
      "Employee ID: 712345\n",
      "Name: Aman Kumar\n",
      "Salary: $45900\n",
      "Yearly Bonus: $32129.999999999996\n"
     ]
    }
   ],
   "source": [
    "aman=Employee(712345,\"Aman Kumar\",45900)\n",
    "aman.display_details()"
   ]
  },
  {
   "cell_type": "markdown",
   "id": "a8793b6a-24c9-4d34-a59b-f1b3e523e0ba",
   "metadata": {},
   "source": [
    "### Problem 3: Vehicle Rental Create a class representing a vehicle rental system. Implement methods to rent a vehicle, return a vehicle, and display available vehicles."
   ]
  },
  {
   "cell_type": "code",
   "execution_count": 11,
   "id": "bc5976dd-fc67-4864-b9e7-8be450dc992c",
   "metadata": {},
   "outputs": [],
   "source": [
    "class Vehicle:\n",
    "    def __init__(self, vehicle_id, make, model, available=True):\n",
    "        self.vehicle_id = vehicle_id\n",
    "        self.make = make\n",
    "        self.model = model\n",
    "        self.available = available\n",
    "\n",
    "class VehicleRental:\n",
    "    def __init__(self):\n",
    "        self.vehicles = []\n",
    "\n",
    "    def add_vehicle(self, vehicle):\n",
    "        self.vehicles.append(vehicle)\n",
    "\n",
    "    def rent_vehicle(self, vehicle_id):\n",
    "        try:\n",
    "            vehicle = next(v for v in self.vehicles if v.vehicle_id == vehicle_id)\n",
    "            if vehicle.available:\n",
    "                vehicle.available = False\n",
    "                print(f\"Vehicle {vehicle_id} rented successfully.\")\n",
    "            else:\n",
    "                print(f\"Vehicle {vehicle_id} is not available for rent.\")\n",
    "        except StopIteration:\n",
    "            print(f\"Vehicle {vehicle_id} not found.\")\n",
    "\n",
    "    def return_vehicle(self, vehicle_id):\n",
    "        try:\n",
    "            vehicle = next(v for v in self.vehicles if v.vehicle_id == vehicle_id)\n",
    "            if not vehicle.available:\n",
    "                vehicle.available = True\n",
    "                print(f\"Vehicle {vehicle_id} returned successfully.\")\n",
    "            else:\n",
    "                print(f\"Vehicle {vehicle_id} is already available.\")\n",
    "        except StopIteration:\n",
    "            print(f\"Vehicle {vehicle_id} not found.\")\n",
    "\n",
    "    def display_available_vehicles(self):\n",
    "        print(\"Available Vehicles:\")\n",
    "        for vehicle in self.vehicles:\n",
    "            if vehicle.available:\n",
    "                print(f\"{vehicle.vehicle_id}: {vehicle.make} {vehicle.model}\")"
   ]
  },
  {
   "cell_type": "code",
   "execution_count": 12,
   "id": "2fbe39ae-021e-4bba-ae2a-9ae18bee82d5",
   "metadata": {},
   "outputs": [],
   "source": [
    "vehicle1 = Vehicle(\"V001\", \"Toyota\", \"Camry\")\n",
    "vehicle2 = Vehicle(\"V002\", \"Honda\", \"Civic\")\n",
    "vehicle3 = Vehicle(\"V003\", \"Ford\", \"Focus\")\n",
    "\n",
    "rental_system = VehicleRental()\n",
    "\n",
    "rental_system.add_vehicle(vehicle1)\n",
    "rental_system.add_vehicle(vehicle2)\n",
    "rental_system.add_vehicle(vehicle3)"
   ]
  },
  {
   "cell_type": "code",
   "execution_count": 13,
   "id": "8364368b-a253-46f3-8ac2-f6a2bbfbbe9a",
   "metadata": {},
   "outputs": [
    {
     "name": "stdout",
     "output_type": "stream",
     "text": [
      "Available Vehicles:\n",
      "V001: Toyota Camry\n",
      "V002: Honda Civic\n",
      "V003: Ford Focus\n"
     ]
    }
   ],
   "source": [
    "rental_system.display_available_vehicles()"
   ]
  },
  {
   "cell_type": "code",
   "execution_count": 17,
   "id": "b26afcc5-9b00-4951-a629-51192a239b39",
   "metadata": {},
   "outputs": [
    {
     "name": "stdout",
     "output_type": "stream",
     "text": [
      "Vehicle V001 rented successfully.\n",
      "Available Vehicles:\n",
      "V002: Honda Civic\n",
      "V003: Ford Focus\n"
     ]
    }
   ],
   "source": [
    "rental_system.rent_vehicle(\"V001\")\n",
    "rental_system.display_available_vehicles()"
   ]
  },
  {
   "cell_type": "code",
   "execution_count": 18,
   "id": "40546603-caba-4e27-a5a0-612b3edfab6c",
   "metadata": {},
   "outputs": [
    {
     "name": "stdout",
     "output_type": "stream",
     "text": [
      "Vehicle V001 returned successfully.\n",
      "Available Vehicles:\n",
      "V001: Toyota Camry\n",
      "V002: Honda Civic\n",
      "V003: Ford Focus\n"
     ]
    }
   ],
   "source": [
    "rental_system.return_vehicle(\"V001\")\n",
    "rental_system.display_available_vehicles()"
   ]
  },
  {
   "cell_type": "markdown",
   "id": "21f1b319-8685-4372-96d8-23b6698f4161",
   "metadata": {},
   "source": [
    "### Problem 4: Library Catalog Create classes representing a library and a book. Implement methods to add books to the library, borrow books, and display available books."
   ]
  },
  {
   "cell_type": "code",
   "execution_count": 19,
   "id": "258a4049-d34a-4d57-b802-c911599e724d",
   "metadata": {},
   "outputs": [],
   "source": [
    "class Book:\n",
    "    def __init__(self, book_id, title, author, available=True):\n",
    "        self.book_id = book_id\n",
    "        self.title = title\n",
    "        self.author = author\n",
    "        self.available = available\n",
    "\n",
    "class Library:\n",
    "    def __init__(self):\n",
    "        self.books = []\n",
    "\n",
    "    def add_book(self, book):\n",
    "        self.books.append(book)\n",
    "        print(f\"Book '{book.title}' added to the library.\")\n",
    "\n",
    "    def borrow_book(self, book_id):\n",
    "        try:\n",
    "            book = next(b for b in self.books if b.book_id == book_id)\n",
    "            if book.available:\n",
    "                book.available = False\n",
    "                print(f\"Book '{book.title}' borrowed successfully.\")\n",
    "            else:\n",
    "                print(f\"Book '{book.title}' is not available for borrowing.\")\n",
    "        except StopIteration:\n",
    "            print(f\"Book with ID {book_id} not found.\")\n",
    "\n",
    "    def display_available_books(self):\n",
    "        print(\"Available Books:\")\n",
    "        for book in self.books:\n",
    "            if book.available:\n",
    "                print(f\"{book.book_id}: {book.title} by {book.author}\")"
   ]
  },
  {
   "cell_type": "code",
   "execution_count": 20,
   "id": "2c1eb720-7dc9-4428-bb4b-761ada4cc6ec",
   "metadata": {},
   "outputs": [
    {
     "name": "stdout",
     "output_type": "stream",
     "text": [
      "Book 'The Great Gatsby' added to the library.\n",
      "Book 'To Kill a Mockingbird' added to the library.\n",
      "Book '1984' added to the library.\n",
      "Available Books:\n",
      "B001: The Great Gatsby by F. Scott Fitzgerald\n",
      "B002: To Kill a Mockingbird by Harper Lee\n",
      "B003: 1984 by George Orwell\n"
     ]
    }
   ],
   "source": [
    "book1 = Book(\"B001\", \"The Great Gatsby\", \"F. Scott Fitzgerald\")\n",
    "book2 = Book(\"B002\", \"To Kill a Mockingbird\", \"Harper Lee\")\n",
    "book3 = Book(\"B003\", \"1984\", \"George Orwell\")\n",
    "\n",
    "library = Library()\n",
    "\n",
    "library.add_book(book1)\n",
    "library.add_book(book2)\n",
    "library.add_book(book3)\n",
    "\n",
    "library.display_available_books()"
   ]
  },
  {
   "cell_type": "code",
   "execution_count": 21,
   "id": "920fa1c2-842e-4195-9fdb-d60b21d8a708",
   "metadata": {},
   "outputs": [
    {
     "name": "stdout",
     "output_type": "stream",
     "text": [
      "Book 'The Great Gatsby' borrowed successfully.\n",
      "Available Books:\n",
      "B002: To Kill a Mockingbird by Harper Lee\n",
      "B003: 1984 by George Orwell\n"
     ]
    }
   ],
   "source": [
    "library.borrow_book(\"B001\")\n",
    "library.display_available_books()"
   ]
  },
  {
   "cell_type": "code",
   "execution_count": 22,
   "id": "c2ef2d1c-35a8-4163-95d3-68c097ab382e",
   "metadata": {},
   "outputs": [
    {
     "name": "stdout",
     "output_type": "stream",
     "text": [
      "Book 'The Great Gatsby' is not available for borrowing.\n",
      "Available Books:\n",
      "B002: To Kill a Mockingbird by Harper Lee\n",
      "B003: 1984 by George Orwell\n"
     ]
    }
   ],
   "source": [
    "library.borrow_book(\"B001\")\n",
    "library.display_available_books()"
   ]
  },
  {
   "cell_type": "markdown",
   "id": "ec9c92ae-54d2-4f73-a57b-99de8c956982",
   "metadata": {
    "tags": []
   },
   "source": [
    "### Problem 5: Product Inventory Create classes representing a product and an inventory system. Implement methods to add products to the inventory, update product quantity, and display available products."
   ]
  },
  {
   "cell_type": "code",
   "execution_count": 24,
   "id": "9b3b8687-3dd0-45db-96d8-b4fa320014bd",
   "metadata": {},
   "outputs": [],
   "source": [
    "class Product:\n",
    "    def __init__(self, product_id, name, price, quantity):\n",
    "        self.product_id = product_id\n",
    "        self.name = name\n",
    "        self.price = price\n",
    "        self.quantity = quantity\n",
    "\n",
    "class Inventory:\n",
    "    def __init__(self):\n",
    "        self.products = []\n",
    "\n",
    "    def add_product(self, product):\n",
    "        self.products.append(product)\n",
    "        print(f\"Product '{product.name}' added to the inventory.\")\n",
    "\n",
    "    def update_quantity(self, product_id, new_quantity):\n",
    "        try:\n",
    "            product = next(p for p in self.products if p.product_id == product_id)\n",
    "            product.quantity = new_quantity\n",
    "            print(f\"Quantity of '{product.name}' updated to {new_quantity}.\")\n",
    "        except StopIteration:\n",
    "            print(f\"Product with ID {product_id} not found.\")\n",
    "\n",
    "    def display_available_products(self):\n",
    "        print(\"Available Products:\")\n",
    "        for product in self.products:\n",
    "            print(f\"{product.product_id}: {product.name} - Price: ${product.price}, Quantity: {product.quantity}\")"
   ]
  },
  {
   "cell_type": "code",
   "execution_count": 25,
   "id": "12599606-7573-4f99-b70c-db9877727da3",
   "metadata": {},
   "outputs": [
    {
     "name": "stdout",
     "output_type": "stream",
     "text": [
      "Product 'Laptop' added to the inventory.\n",
      "Product 'Smartphone' added to the inventory.\n",
      "Product 'Headphones' added to the inventory.\n",
      "Available Products:\n",
      "P001: Laptop - Price: $1200.0, Quantity: 10\n",
      "P002: Smartphone - Price: $800.0, Quantity: 20\n",
      "P003: Headphones - Price: $100.0, Quantity: 30\n"
     ]
    }
   ],
   "source": [
    "product1 = Product(\"P001\", \"Laptop\", 1200.0, 10)\n",
    "product2 = Product(\"P002\", \"Smartphone\", 800.0, 20)\n",
    "product3 = Product(\"P003\", \"Headphones\", 100.0, 30)\n",
    "\n",
    "inventory = Inventory()\n",
    "\n",
    "inventory.add_product(product1)\n",
    "inventory.add_product(product2)\n",
    "inventory.add_product(product3)\n",
    "\n",
    "inventory.display_available_products()"
   ]
  },
  {
   "cell_type": "code",
   "execution_count": 26,
   "id": "1cd173f1-4a19-48bb-966e-00f3934eb41c",
   "metadata": {},
   "outputs": [
    {
     "name": "stdout",
     "output_type": "stream",
     "text": [
      "Quantity of 'Laptop' updated to 5.\n",
      "Available Products:\n",
      "P001: Laptop - Price: $1200.0, Quantity: 5\n",
      "P002: Smartphone - Price: $800.0, Quantity: 20\n",
      "P003: Headphones - Price: $100.0, Quantity: 30\n"
     ]
    }
   ],
   "source": [
    "inventory.update_quantity(\"P001\", 5)\n",
    "inventory.display_available_products()"
   ]
  },
  {
   "cell_type": "code",
   "execution_count": 27,
   "id": "fc26ccde-f11c-4daa-9c7f-31adb176eb24",
   "metadata": {},
   "outputs": [
    {
     "name": "stdout",
     "output_type": "stream",
     "text": [
      "Product with ID P004 not found.\n"
     ]
    }
   ],
   "source": [
    "inventory.update_quantity(\"P004\", 8)"
   ]
  },
  {
   "cell_type": "markdown",
   "id": "5e757382-5883-4674-9c49-2b6012a0f4b4",
   "metadata": {
    "tags": []
   },
   "source": [
    "### Problem 6: Shape Calculation Create a class representing a shape with attributes like length, width, and height. Implement methods to calculate the area and perimeter of the shape."
   ]
  },
  {
   "cell_type": "code",
   "execution_count": 28,
   "id": "891c26de-ae8d-4fb0-8cb0-51d60816368c",
   "metadata": {},
   "outputs": [],
   "source": [
    "class Shape:\n",
    "    def __init__(self, length=0, width=0, height=0):\n",
    "        self.length = length\n",
    "        self.width = width\n",
    "        self.height = height\n",
    "\n",
    "    def calculate_area(self):\n",
    "        raise NotImplementedError(\"Subclasses must implement the calculate_area method\")\n",
    "\n",
    "    def calculate_perimeter(self):\n",
    "        raise NotImplementedError(\"Subclasses must implement the calculate_perimeter method\")\n",
    "\n",
    "class Rectangle(Shape):\n",
    "    def calculate_area(self):\n",
    "        return self.length * self.width\n",
    "\n",
    "    def calculate_perimeter(self):\n",
    "        return 2 * (self.length + self.width)\n",
    "\n",
    "class Square(Rectangle):\n",
    "    def __init__(self, side):\n",
    "        super().__init__(length=side, width=side)\n",
    "\n",
    "class Triangle(Shape):\n",
    "    def calculate_area(self):\n",
    "        # Using Heron's formula for the area of a triangle\n",
    "        s = (self.length + self.width + self.height) / 2\n",
    "        return (s * (s - self.length) * (s - self.width) * (s - self.height)) ** 0.5\n",
    "\n",
    "    def calculate_perimeter(self):\n",
    "        return self.length + self.width + self.height"
   ]
  },
  {
   "cell_type": "code",
   "execution_count": 29,
   "id": "931a8e9f-3494-4d70-8b3f-399bb6382590",
   "metadata": {},
   "outputs": [
    {
     "name": "stdout",
     "output_type": "stream",
     "text": [
      "Rectangle - Area: 15 Perimeter: 16\n",
      "Square - Area: 16 Perimeter: 16\n",
      "Triangle - Area: 6.0 Perimeter: 12\n"
     ]
    }
   ],
   "source": [
    "rectangle = Rectangle(length=5, width=3)\n",
    "square = Square(side=4)\n",
    "triangle = Triangle(length=3, width=4, height=5)\n",
    "\n",
    "print(\"Rectangle - Area:\", rectangle.calculate_area(), \"Perimeter:\", rectangle.calculate_perimeter())\n",
    "print(\"Square - Area:\", square.calculate_area(), \"Perimeter:\", square.calculate_perimeter())\n",
    "print(\"Triangle - Area:\", triangle.calculate_area(), \"Perimeter:\", triangle.calculate_perimeter())"
   ]
  },
  {
   "cell_type": "markdown",
   "id": "be756f5f-d352-481c-9305-7391fc3b6a2a",
   "metadata": {
    "tags": []
   },
   "source": [
    "### Problem 7: Student Management Create a class representing a student with attributes like student ID, name, and grades. Implement methods to calculate the average grade and display student details."
   ]
  },
  {
   "cell_type": "code",
   "execution_count": 30,
   "id": "e8b6164a-7384-4323-ab10-9e33e66e1171",
   "metadata": {},
   "outputs": [],
   "source": [
    "class Student:\n",
    "    def __init__(self, student_id, name):\n",
    "        self.student_id = student_id\n",
    "        self.name = name\n",
    "        self.grades = []\n",
    "\n",
    "    def add_grade(self, grade):\n",
    "        self.grades.append(grade)\n",
    "\n",
    "    def calculate_average_grade(self):\n",
    "        if not self.grades:\n",
    "            return 0  # Avoid division by zero\n",
    "        return sum(self.grades) / len(self.grades)\n",
    "\n",
    "    def display_details(self):\n",
    "        print(\"Student ID:\", self.student_id)\n",
    "        print(\"Name:\", self.name)\n",
    "        print(\"Grades:\", self.grades)\n",
    "        print(\"Average Grade:\", self.calculate_average_grade())"
   ]
  },
  {
   "cell_type": "code",
   "execution_count": 32,
   "id": "b9e61172-7ea8-432c-9ee5-601bddcaeeac",
   "metadata": {},
   "outputs": [
    {
     "name": "stdout",
     "output_type": "stream",
     "text": [
      "Student ID: S001\n",
      "Name: Aman Kumar\n",
      "Grades: [90, 85, 92]\n",
      "Average Grade: 89.0\n",
      "\n",
      "\n",
      "Student ID: S002\n",
      "Name: Sudhanshu\n",
      "Grades: [78, 88, 95]\n",
      "Average Grade: 87.0\n"
     ]
    }
   ],
   "source": [
    "student1 = Student(student_id=\"S001\", name=\"Aman Kumar\")\n",
    "student1.add_grade(90)\n",
    "student1.add_grade(85)\n",
    "student1.add_grade(92)\n",
    "\n",
    "student2 = Student(student_id=\"S002\", name=\"Sudhanshu\")\n",
    "student2.add_grade(78)\n",
    "student2.add_grade(88)\n",
    "student2.add_grade(95)\n",
    "\n",
    "student1.display_details()\n",
    "print(\"\\n\")\n",
    "student2.display_details()"
   ]
  },
  {
   "cell_type": "markdown",
   "id": "a5c9299e-e41b-46a6-9409-f7c6ac8a0573",
   "metadata": {
    "tags": []
   },
   "source": [
    "### Problem 8: Email Management Create a class representing an email with attributes like sender, recipient, and subject. Implement methods to send an email and display email details."
   ]
  },
  {
   "cell_type": "code",
   "execution_count": 33,
   "id": "d20e7890-425c-4317-8e4b-8aa1de655d5e",
   "metadata": {},
   "outputs": [],
   "source": [
    "class Email:\n",
    "    def __init__(self, sender, recipient, subject, body):\n",
    "        self.sender = sender\n",
    "        self.recipient = recipient\n",
    "        self.subject = subject\n",
    "        self.body = body\n",
    "        self.sent = False\n",
    "\n",
    "    def send_email(self):\n",
    "        print(f\"Email sent from {self.sender} to {self.recipient}\")\n",
    "        self.sent = True\n",
    "\n",
    "    def display_details(self):\n",
    "        print(\"Sender:\", self.sender)\n",
    "        print(\"Recipient:\", self.recipient)\n",
    "        print(\"Subject:\", self.subject)\n",
    "        print(\"Body:\", self.body)\n",
    "        print(\"Status: Sent\" if self.sent else \"Status: Draft\")"
   ]
  },
  {
   "cell_type": "code",
   "execution_count": 34,
   "id": "f504de4a-b376-4779-a606-ecc56c0e1122",
   "metadata": {},
   "outputs": [
    {
     "name": "stdout",
     "output_type": "stream",
     "text": [
      "Sender: amanjmp26@gmail.com\n",
      "Recipient: name@gmail.com\n",
      "Subject: Meeting\n",
      "Body: Let's meet tomorrow.\n",
      "Status: Draft\n",
      "\n",
      "Sending email...\n",
      "\n",
      "Email sent from amanjmp26@gmail.com to name@gmail.com\n",
      "Sender: amanjmp26@gmail.com\n",
      "Recipient: name@gmail.com\n",
      "Subject: Meeting\n",
      "Body: Let's meet tomorrow.\n",
      "Status: Sent\n"
     ]
    }
   ],
   "source": [
    "email1 = Email(sender=\"amanjmp26@gmail.com\", recipient=\"name@gmail.com\", subject=\"Meeting\", body=\"Let's meet tomorrow.\")\n",
    "email1.display_details()\n",
    "print(\"\\nSending email...\\n\")\n",
    "email1.send_email()\n",
    "email1.display_details()"
   ]
  },
  {
   "cell_type": "markdown",
   "id": "b70e126e-faa6-43bc-8fa6-ea1cc792752c",
   "metadata": {
    "tags": []
   },
   "source": [
    "### Problem 9: Social Media Profile Create a class representing a social media profile with attributes like username and posts. Implement methods to add posts, display posts, and search for posts by keyword."
   ]
  },
  {
   "cell_type": "code",
   "execution_count": 35,
   "id": "257d069b-3c25-474f-84cc-9c5550cb817f",
   "metadata": {},
   "outputs": [],
   "source": [
    "class SocialMediaProfile:\n",
    "    def __init__(self, username):\n",
    "        self.username = username\n",
    "        self.posts = []\n",
    "\n",
    "    def add_post(self, content):\n",
    "        post = {\"content\": content, \"author\": self.username}\n",
    "        self.posts.append(post)\n",
    "        print(f\"Post added by {self.username}\")\n",
    "\n",
    "    def display_posts(self):\n",
    "        print(f\"Posts by {self.username}:\")\n",
    "        for post in self.posts:\n",
    "            print(f\"Author: {post['author']}\\nContent: {post['content']}\\n\")\n",
    "\n",
    "    def search_posts(self, keyword):\n",
    "        matching_posts = [post for post in self.posts if keyword.lower() in post[\"content\"].lower()]\n",
    "        if matching_posts:\n",
    "            print(f\"Matching posts for keyword '{keyword}':\")\n",
    "            for post in matching_posts:\n",
    "                print(f\"Author: {post['author']}\\nContent: {post['content']}\\n\")\n",
    "        else:\n",
    "            print(f\"No matching posts found for keyword '{keyword}'.\")"
   ]
  },
  {
   "cell_type": "code",
   "execution_count": 36,
   "id": "09206cfb-53f6-46ac-8d09-b5915730d0ed",
   "metadata": {},
   "outputs": [
    {
     "name": "stdout",
     "output_type": "stream",
     "text": [
      "Post added by Aman\n",
      "Post added by Aman\n",
      "Post added by Aman\n",
      "Posts by Aman:\n",
      "Author: Aman\n",
      "Content: Enjoying a sunny day at the beach!\n",
      "\n",
      "Author: Aman\n",
      "Content: Coding is my passion.\n",
      "\n",
      "Author: Aman\n",
      "Content: Exploring new hiking trails.\n",
      "\n",
      "\n",
      "Searching for posts containing 'coding':\n",
      "Matching posts for keyword 'coding':\n",
      "Author: Aman\n",
      "Content: Coding is my passion.\n",
      "\n"
     ]
    }
   ],
   "source": [
    "profile1 = SocialMediaProfile(username=\"Aman\")\n",
    "profile1.add_post(\"Enjoying a sunny day at the beach!\")\n",
    "profile1.add_post(\"Coding is my passion.\")\n",
    "profile1.add_post(\"Exploring new hiking trails.\")\n",
    "\n",
    "profile1.display_posts()\n",
    "\n",
    "print(\"\\nSearching for posts containing 'coding':\")\n",
    "profile1.search_posts(\"coding\")"
   ]
  },
  {
   "cell_type": "markdown",
   "id": "e0333e13-8304-4e43-b3b6-bd6beaca82f3",
   "metadata": {
    "tags": []
   },
   "source": [
    "### Problem 10: ToDo List Create a class representing a ToDo list with attributes like tasks and due dates. Implement methods to add tasks, mark tasks as completed, and display pending tasks."
   ]
  },
  {
   "cell_type": "code",
   "execution_count": 37,
   "id": "90452162-9d66-44cd-b08f-0788fee96418",
   "metadata": {},
   "outputs": [],
   "source": [
    "class ToDoList:\n",
    "    def __init__(self):\n",
    "        self.tasks = []\n",
    "\n",
    "    def add_task(self, task, due_date):\n",
    "        new_task = {\"task\": task, \"due_date\": due_date, \"completed\": False}\n",
    "        self.tasks.append(new_task)\n",
    "        print(f\"Task '{task}' added to the ToDo list.\")\n",
    "\n",
    "    def mark_as_completed(self, task):\n",
    "        for t in self.tasks:\n",
    "            if t[\"task\"] == task:\n",
    "                t[\"completed\"] = True\n",
    "                print(f\"Task '{task}' marked as completed.\")\n",
    "                return\n",
    "        print(f\"Task '{task}' not found in the ToDo list.\")\n",
    "\n",
    "    def display_pending_tasks(self):\n",
    "        pending_tasks = [t for t in self.tasks if not t[\"completed\"]]\n",
    "        if pending_tasks:\n",
    "            print(\"Pending tasks:\")\n",
    "            for task in pending_tasks:\n",
    "                print(f\"Task: {task['task']}, Due Date: {task['due_date']}\")\n",
    "        else:\n",
    "            print(\"No pending tasks in the ToDo list.\")"
   ]
  },
  {
   "cell_type": "code",
   "execution_count": 38,
   "id": "05959b8e-cb5b-4aff-aec0-0775fb8e9d1b",
   "metadata": {},
   "outputs": [
    {
     "name": "stdout",
     "output_type": "stream",
     "text": [
      "Task 'Write report' added to the ToDo list.\n",
      "Task 'Exercise' added to the ToDo list.\n",
      "Task 'Read a book' added to the ToDo list.\n"
     ]
    }
   ],
   "source": [
    "todo_list = ToDoList()\n",
    "todo_list.add_task(\"Write report\", \"2023-12-31\")\n",
    "todo_list.add_task(\"Exercise\", \"2023-12-25\")\n",
    "todo_list.add_task(\"Read a book\", \"2023-12-28\")"
   ]
  },
  {
   "cell_type": "code",
   "execution_count": 39,
   "id": "28d3711e-f0ab-49b0-b386-9ef41cd9d0de",
   "metadata": {},
   "outputs": [
    {
     "name": "stdout",
     "output_type": "stream",
     "text": [
      "Pending tasks:\n",
      "Task: Write report, Due Date: 2023-12-31\n",
      "Task: Exercise, Due Date: 2023-12-25\n",
      "Task: Read a book, Due Date: 2023-12-28\n"
     ]
    }
   ],
   "source": [
    "todo_list.display_pending_tasks()"
   ]
  },
  {
   "cell_type": "code",
   "execution_count": 40,
   "id": "efb7d32a-1f35-4014-974d-de86bfd2b368",
   "metadata": {},
   "outputs": [
    {
     "name": "stdout",
     "output_type": "stream",
     "text": [
      "\n",
      "Marking 'Exercise' as completed.\n",
      "Task 'Exercise' marked as completed.\n"
     ]
    }
   ],
   "source": [
    "print(\"\\nMarking 'Exercise' as completed.\")\n",
    "todo_list.mark_as_completed(\"Exercise\")"
   ]
  },
  {
   "cell_type": "code",
   "execution_count": null,
   "id": "3aebee93-0f45-49d1-a27d-5cf012df31d9",
   "metadata": {},
   "outputs": [],
   "source": []
  }
 ],
 "metadata": {
  "kernelspec": {
   "display_name": "Python 3 (ipykernel)",
   "language": "python",
   "name": "python3"
  },
  "language_info": {
   "codemirror_mode": {
    "name": "ipython",
    "version": 3
   },
   "file_extension": ".py",
   "mimetype": "text/x-python",
   "name": "python",
   "nbconvert_exporter": "python",
   "pygments_lexer": "ipython3",
   "version": "3.10.8"
  }
 },
 "nbformat": 4,
 "nbformat_minor": 5
}
